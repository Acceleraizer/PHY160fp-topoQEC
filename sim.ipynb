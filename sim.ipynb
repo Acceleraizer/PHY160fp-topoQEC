{
 "cells": [
  {
   "cell_type": "code",
   "execution_count": null,
   "metadata": {},
   "outputs": [],
   "source": [
    "!pip install networkx\n",
    "!pip install matplotlib"
   ]
  },
  {
   "cell_type": "code",
   "execution_count": 2,
   "metadata": {},
   "outputs": [],
   "source": [
    "import networkx as nx\n",
    "import matplotlib.pyplot as plt"
   ]
  },
  {
   "cell_type": "code",
   "execution_count": 29,
   "metadata": {},
   "outputs": [
    {
     "name": "stdout",
     "output_type": "stream",
     "text": [
      "Number of physical qubits needed = 32\n"
     ]
    }
   ],
   "source": [
    "l = 4\n",
    "lattice = nx.Graph()\n",
    "lattice.add_nodes_from([(n, m) for n in range(2*l) for m in range(2*l)])\n",
    "# lattice.add_edges_from([((2*n, m), (2*n, m+1)) for n in range(l) for m in range(2*l-2)] +\n",
    "                        # [((n, 2*m), (n+1, 2*m)) for n in range(2*l-2) for m in range(l)])\n",
    "lattice.add_edges_from([((n, m), (n, (m+1)%(2*l))) for n in range(2*l) for m in range(2*l)] +\n",
    "                         [((n, m), ((n+1)%(2*l) ,m)) for n in range(2*l) for m in range(2*l)])\n",
    "\n",
    "qubit_coordinates = [(2*n, 2*m+1) for n in range(l) for m in range(l)] + [(2*n+1, 2*m) for n in range(l) for m in range(l)]\n",
    "vertex_coordinates = [(2*n, 2*m) for n in range(l) for m in range(l)] \n",
    "lattice_qubits = lattice.subgraph(qubit_coordinates)\n",
    "lattice_vis = lattice.subgraph(qubit_coordinates + vertex_coordinates)\n",
    "\n",
    "num_phys_qubits = len(lattice_qubits.nodes())\n",
    "print(f\"Number of physical qubits needed = {num_phys_qubits}\")\n"
   ]
  },
  {
   "cell_type": "code",
   "execution_count": 31,
   "metadata": {},
   "outputs": [
    {
     "data": {
      "image/png": "[encoded data removed]",
      "text/plain": [
       "<Figure size 432x288 with 1 Axes>"
      ]
     },
     "metadata": {},
     "output_type": "display_data"
    }
   ],
   "source": [
    "pos = {(x,y):(y,x) for x,y in lattice.nodes()}\n",
    "# nx.draw(lattice, pos=pos, node_size = 3)\n",
    "nx.draw(lattice_vis, pos=pos, node_size = 1)\n",
    "nx.draw(lattice_qubits, pos=pos, node_color = 'r')"
   ]
  },
  {
   "cell_type": "code",
   "execution_count": null,
   "metadata": {},
   "outputs": [],
   "source": []
  }
 ],
 "metadata": {
  "interpreter": {
   "hash": "e7f8be2789b56cbf40ed0ece3233aac61a2f58a640faef662e7f8a39bfb36fd3"
  },
  "kernelspec": {
   "display_name": "hw10",
   "language": "python",
   "name": "python3"
  },
  "language_info": {
   "name": "python",
   "version": "3.8.1"
  },
  "orig_nbformat": 4
 },
 "nbformat": 4,
 "nbformat_minor": 2
}
