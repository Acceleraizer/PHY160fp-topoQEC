{
 "cells": [
  {
   "cell_type": "code",
   "execution_count": null,
   "metadata": {},
   "outputs": [],
   "source": [
    "!pip install networkx"
   ]
  }
 ],
 "metadata": {
  "interpreter": {
   "hash": "e7f8be2789b56cbf40ed0ece3233aac61a2f58a640faef662e7f8a39bfb36fd3"
  },
  "kernelspec": {
   "display_name": "hw10",
   "language": "python",
   "name": "python3"
  },
  "language_info": {
   "name": "python",
   "version": "3.8.1"
  },
  "orig_nbformat": 4
 },
 "nbformat": 4,
 "nbformat_minor": 2
}
